{
  "cells": [
    {
      "cell_type": "markdown",
      "metadata": {
        "id": "view-in-github",
        "colab_type": "text"
      },
      "source": [
        "<a href=\"https://colab.research.google.com/github/gurudattamanpreet/Internship-Projects/blob/main/Arise_Internship_Week1.ipynb\" target=\"_parent\"><img src=\"https://colab.research.google.com/assets/colab-badge.svg\" alt=\"Open In Colab\"/></a>"
      ]
    },
    {
      "cell_type": "code",
      "execution_count": null,
      "id": "62d24253-01a6-4767-a93e-9f7027e52aa4",
      "metadata": {
        "id": "62d24253-01a6-4767-a93e-9f7027e52aa4"
      },
      "outputs": [],
      "source": [
        "import openpyxl as op\n",
        "import numpy as np\n",
        "import pandas as pd\n",
        "from openpyxl import Workbook\n",
        "from openpyxl.styles import Font, Alignment\n",
        "import re\n",
        "import json\n",
        "import fitz  # PyMuPDF for PDF\n",
        "import xml.etree.ElementTree as ET\n",
        "from docx import Document\n",
        "import os"
      ]
    },
    {
      "cell_type": "code",
      "execution_count": null,
      "id": "6ee10571-ec3b-4812-8929-35e49a641e8b",
      "metadata": {
        "id": "6ee10571-ec3b-4812-8929-35e49a641e8b",
        "outputId": "2c5d027c-8824-4ef5-c34a-830ee004b77c"
      },
      "outputs": [
        {
          "name": "stdout",
          "output_type": "stream",
          "text": [
            "Excel file created successfully with multiple records!\n"
          ]
        }
      ],
      "source": [
        "wb=op.Workbook()\n",
        "sheet=wb.active\n",
        "sheet.title='Sheet1'\n",
        "sheet['A1']='Name'\n",
        "sheet['B1']='Age'\n",
        "sheet['C1']='City'\n",
        "sheet.append(['Manpreet','24'])\n",
        "data = [\n",
        "    [\"Manpreet\", 24, \"Delhi\"],\n",
        "    [\"Rahul\", 22, \"Mumbai\"],\n",
        "    [\"Priya\", 25, \"Bangalore\"],\n",
        "    [\"Aman\", 27, \"Chennai\"],\n",
        "    [\"Neha\", 23, \"Kolkata\"],]\n",
        "for row in data:\n",
        "    sheet.append(row)\n",
        "wb.save(\"sample.xlsx\")\n",
        "print(\"Excel file created successfully with multiple records!\")"
      ]
    },
    {
      "cell_type": "code",
      "execution_count": null,
      "id": "c773f90c-bcac-4de2-ab25-ab0e972dc695",
      "metadata": {
        "id": "c773f90c-bcac-4de2-ab25-ab0e972dc695"
      },
      "outputs": [],
      "source": [
        "df=pd.read_excel('/Users/manpreetsingh/Documents/Practise Programms/sample.xlsx')"
      ]
    },
    {
      "cell_type": "code",
      "execution_count": null,
      "id": "2ad20e75-7086-435d-98cf-0b1ba306482e",
      "metadata": {
        "id": "2ad20e75-7086-435d-98cf-0b1ba306482e",
        "outputId": "5a3a66db-4af6-4e26-d46b-9751b32487be"
      },
      "outputs": [
        {
          "data": {
            "text/html": [
              "<div>\n",
              "<style scoped>\n",
              "    .dataframe tbody tr th:only-of-type {\n",
              "        vertical-align: middle;\n",
              "    }\n",
              "\n",
              "    .dataframe tbody tr th {\n",
              "        vertical-align: top;\n",
              "    }\n",
              "\n",
              "    .dataframe thead th {\n",
              "        text-align: right;\n",
              "    }\n",
              "</style>\n",
              "<table border=\"1\" class=\"dataframe\">\n",
              "  <thead>\n",
              "    <tr style=\"text-align: right;\">\n",
              "      <th></th>\n",
              "      <th>Name</th>\n",
              "      <th>Age</th>\n",
              "      <th>City</th>\n",
              "    </tr>\n",
              "  </thead>\n",
              "  <tbody>\n",
              "    <tr>\n",
              "      <th>0</th>\n",
              "      <td>Manpreet</td>\n",
              "      <td>24</td>\n",
              "      <td>NaN</td>\n",
              "    </tr>\n",
              "    <tr>\n",
              "      <th>1</th>\n",
              "      <td>Manpreet</td>\n",
              "      <td>24</td>\n",
              "      <td>Delhi</td>\n",
              "    </tr>\n",
              "    <tr>\n",
              "      <th>2</th>\n",
              "      <td>Rahul</td>\n",
              "      <td>22</td>\n",
              "      <td>Mumbai</td>\n",
              "    </tr>\n",
              "    <tr>\n",
              "      <th>3</th>\n",
              "      <td>Priya</td>\n",
              "      <td>25</td>\n",
              "      <td>Bangalore</td>\n",
              "    </tr>\n",
              "    <tr>\n",
              "      <th>4</th>\n",
              "      <td>Aman</td>\n",
              "      <td>27</td>\n",
              "      <td>Chennai</td>\n",
              "    </tr>\n",
              "    <tr>\n",
              "      <th>5</th>\n",
              "      <td>Neha</td>\n",
              "      <td>23</td>\n",
              "      <td>Kolkata</td>\n",
              "    </tr>\n",
              "  </tbody>\n",
              "</table>\n",
              "</div>"
            ],
            "text/plain": [
              "       Name  Age       City\n",
              "0  Manpreet   24        NaN\n",
              "1  Manpreet   24      Delhi\n",
              "2     Rahul   22     Mumbai\n",
              "3     Priya   25  Bangalore\n",
              "4      Aman   27    Chennai\n",
              "5      Neha   23    Kolkata"
            ]
          },
          "execution_count": 23,
          "metadata": {},
          "output_type": "execute_result"
        }
      ],
      "source": [
        "df.head(6)"
      ]
    },
    {
      "cell_type": "code",
      "execution_count": null,
      "id": "ca3735c8-2c34-49b2-9af9-87da42022856",
      "metadata": {
        "id": "ca3735c8-2c34-49b2-9af9-87da42022856",
        "outputId": "6e868d0c-453e-449c-c642-89791811e9a4"
      },
      "outputs": [
        {
          "name": "stdout",
          "output_type": "stream",
          "text": [
            "Excel file formatted successfully!\n"
          ]
        }
      ],
      "source": [
        "sheet['A1'].font = Font(bold=True, color='FF0000')  # Red and Bold\n",
        "sheet['A1'].alignment = Alignment(horizontal='center')\n",
        "\n",
        "wb.save('formatted.xlsx')\n",
        "print('Excel file formatted successfully!')"
      ]
    },
    {
      "cell_type": "code",
      "execution_count": null,
      "id": "7f14e452-8635-4702-afdc-7e7461531108",
      "metadata": {
        "id": "7f14e452-8635-4702-afdc-7e7461531108",
        "outputId": "0c88832a-68a1-4c03-cc79-0daa6849f621"
      },
      "outputs": [
        {
          "data": {
            "text/html": [
              "<div>\n",
              "<style scoped>\n",
              "    .dataframe tbody tr th:only-of-type {\n",
              "        vertical-align: middle;\n",
              "    }\n",
              "\n",
              "    .dataframe tbody tr th {\n",
              "        vertical-align: top;\n",
              "    }\n",
              "\n",
              "    .dataframe thead th {\n",
              "        text-align: right;\n",
              "    }\n",
              "</style>\n",
              "<table border=\"1\" class=\"dataframe\">\n",
              "  <thead>\n",
              "    <tr style=\"text-align: right;\">\n",
              "      <th></th>\n",
              "      <th>Name</th>\n",
              "      <th>Age</th>\n",
              "      <th>City</th>\n",
              "    </tr>\n",
              "  </thead>\n",
              "  <tbody>\n",
              "    <tr>\n",
              "      <th>0</th>\n",
              "      <td>Manpreet</td>\n",
              "      <td>24</td>\n",
              "      <td>NaN</td>\n",
              "    </tr>\n",
              "    <tr>\n",
              "      <th>1</th>\n",
              "      <td>Manpreet</td>\n",
              "      <td>24</td>\n",
              "      <td>Delhi</td>\n",
              "    </tr>\n",
              "    <tr>\n",
              "      <th>2</th>\n",
              "      <td>Rahul</td>\n",
              "      <td>22</td>\n",
              "      <td>Mumbai</td>\n",
              "    </tr>\n",
              "    <tr>\n",
              "      <th>3</th>\n",
              "      <td>Priya</td>\n",
              "      <td>25</td>\n",
              "      <td>Bangalore</td>\n",
              "    </tr>\n",
              "    <tr>\n",
              "      <th>4</th>\n",
              "      <td>Aman</td>\n",
              "      <td>27</td>\n",
              "      <td>Chennai</td>\n",
              "    </tr>\n",
              "    <tr>\n",
              "      <th>5</th>\n",
              "      <td>Neha</td>\n",
              "      <td>23</td>\n",
              "      <td>Kolkata</td>\n",
              "    </tr>\n",
              "  </tbody>\n",
              "</table>\n",
              "</div>"
            ],
            "text/plain": [
              "       Name  Age       City\n",
              "0  Manpreet   24        NaN\n",
              "1  Manpreet   24      Delhi\n",
              "2     Rahul   22     Mumbai\n",
              "3     Priya   25  Bangalore\n",
              "4      Aman   27    Chennai\n",
              "5      Neha   23    Kolkata"
            ]
          },
          "execution_count": 25,
          "metadata": {},
          "output_type": "execute_result"
        }
      ],
      "source": [
        "df.head(6)"
      ]
    },
    {
      "cell_type": "code",
      "execution_count": null,
      "id": "572667f4-05db-436c-95b5-f6569331693d",
      "metadata": {
        "id": "572667f4-05db-436c-95b5-f6569331693d",
        "outputId": "2541339a-5614-4fb1-9765-ad5e689cff77"
      },
      "outputs": [
        {
          "data": {
            "text/html": [
              "<div>\n",
              "<style scoped>\n",
              "    .dataframe tbody tr th:only-of-type {\n",
              "        vertical-align: middle;\n",
              "    }\n",
              "\n",
              "    .dataframe tbody tr th {\n",
              "        vertical-align: top;\n",
              "    }\n",
              "\n",
              "    .dataframe thead th {\n",
              "        text-align: right;\n",
              "    }\n",
              "</style>\n",
              "<table border=\"1\" class=\"dataframe\">\n",
              "  <thead>\n",
              "    <tr style=\"text-align: right;\">\n",
              "      <th></th>\n",
              "      <th>Name</th>\n",
              "      <th>Age</th>\n",
              "      <th>City</th>\n",
              "    </tr>\n",
              "  </thead>\n",
              "  <tbody>\n",
              "    <tr>\n",
              "      <th>0</th>\n",
              "      <td>False</td>\n",
              "      <td>False</td>\n",
              "      <td>True</td>\n",
              "    </tr>\n",
              "    <tr>\n",
              "      <th>1</th>\n",
              "      <td>False</td>\n",
              "      <td>False</td>\n",
              "      <td>False</td>\n",
              "    </tr>\n",
              "    <tr>\n",
              "      <th>2</th>\n",
              "      <td>False</td>\n",
              "      <td>False</td>\n",
              "      <td>False</td>\n",
              "    </tr>\n",
              "    <tr>\n",
              "      <th>3</th>\n",
              "      <td>False</td>\n",
              "      <td>False</td>\n",
              "      <td>False</td>\n",
              "    </tr>\n",
              "    <tr>\n",
              "      <th>4</th>\n",
              "      <td>False</td>\n",
              "      <td>False</td>\n",
              "      <td>False</td>\n",
              "    </tr>\n",
              "    <tr>\n",
              "      <th>5</th>\n",
              "      <td>False</td>\n",
              "      <td>False</td>\n",
              "      <td>False</td>\n",
              "    </tr>\n",
              "  </tbody>\n",
              "</table>\n",
              "</div>"
            ],
            "text/plain": [
              "    Name    Age   City\n",
              "0  False  False   True\n",
              "1  False  False  False\n",
              "2  False  False  False\n",
              "3  False  False  False\n",
              "4  False  False  False\n",
              "5  False  False  False"
            ]
          },
          "execution_count": 26,
          "metadata": {},
          "output_type": "execute_result"
        }
      ],
      "source": [
        "df.isna()"
      ]
    },
    {
      "cell_type": "code",
      "execution_count": null,
      "id": "b97ac935-8a1b-4a3f-8c72-8765cb8c00f5",
      "metadata": {
        "id": "b97ac935-8a1b-4a3f-8c72-8765cb8c00f5",
        "outputId": "6ea75e2f-70cf-4b8c-f41b-2cee162b1341"
      },
      "outputs": [
        {
          "data": {
            "text/plain": [
              "array([False, False, False, False, False, False])"
            ]
          },
          "execution_count": 27,
          "metadata": {},
          "output_type": "execute_result"
        }
      ],
      "source": [
        "df.index.duplicated()"
      ]
    },
    {
      "cell_type": "code",
      "execution_count": null,
      "id": "9d61ac00-bc24-4348-ba78-0bf5755d7d46",
      "metadata": {
        "id": "9d61ac00-bc24-4348-ba78-0bf5755d7d46"
      },
      "outputs": [],
      "source": [
        "df=df.dropna()"
      ]
    },
    {
      "cell_type": "code",
      "execution_count": null,
      "id": "13d58c72-8290-4478-b1c2-ba970def5b25",
      "metadata": {
        "id": "13d58c72-8290-4478-b1c2-ba970def5b25",
        "outputId": "886ce5b7-2f12-4549-c43b-8ca9944d958b"
      },
      "outputs": [
        {
          "data": {
            "text/html": [
              "<div>\n",
              "<style scoped>\n",
              "    .dataframe tbody tr th:only-of-type {\n",
              "        vertical-align: middle;\n",
              "    }\n",
              "\n",
              "    .dataframe tbody tr th {\n",
              "        vertical-align: top;\n",
              "    }\n",
              "\n",
              "    .dataframe thead th {\n",
              "        text-align: right;\n",
              "    }\n",
              "</style>\n",
              "<table border=\"1\" class=\"dataframe\">\n",
              "  <thead>\n",
              "    <tr style=\"text-align: right;\">\n",
              "      <th></th>\n",
              "      <th>Name</th>\n",
              "      <th>Age</th>\n",
              "      <th>City</th>\n",
              "    </tr>\n",
              "  </thead>\n",
              "  <tbody>\n",
              "    <tr>\n",
              "      <th>1</th>\n",
              "      <td>Manpreet</td>\n",
              "      <td>24</td>\n",
              "      <td>Delhi</td>\n",
              "    </tr>\n",
              "    <tr>\n",
              "      <th>2</th>\n",
              "      <td>Rahul</td>\n",
              "      <td>22</td>\n",
              "      <td>Mumbai</td>\n",
              "    </tr>\n",
              "    <tr>\n",
              "      <th>3</th>\n",
              "      <td>Priya</td>\n",
              "      <td>25</td>\n",
              "      <td>Bangalore</td>\n",
              "    </tr>\n",
              "    <tr>\n",
              "      <th>4</th>\n",
              "      <td>Aman</td>\n",
              "      <td>27</td>\n",
              "      <td>Chennai</td>\n",
              "    </tr>\n",
              "    <tr>\n",
              "      <th>5</th>\n",
              "      <td>Neha</td>\n",
              "      <td>23</td>\n",
              "      <td>Kolkata</td>\n",
              "    </tr>\n",
              "  </tbody>\n",
              "</table>\n",
              "</div>"
            ],
            "text/plain": [
              "       Name  Age       City\n",
              "1  Manpreet   24      Delhi\n",
              "2     Rahul   22     Mumbai\n",
              "3     Priya   25  Bangalore\n",
              "4      Aman   27    Chennai\n",
              "5      Neha   23    Kolkata"
            ]
          },
          "execution_count": 29,
          "metadata": {},
          "output_type": "execute_result"
        }
      ],
      "source": [
        "df.head()"
      ]
    },
    {
      "cell_type": "code",
      "execution_count": null,
      "id": "6c43f682-f11e-4ccf-9b9f-fefeb4e45161",
      "metadata": {
        "id": "6c43f682-f11e-4ccf-9b9f-fefeb4e45161",
        "outputId": "4b2b7b34-5514-465e-8902-f06150af85fd"
      },
      "outputs": [
        {
          "data": {
            "text/html": [
              "<div>\n",
              "<style scoped>\n",
              "    .dataframe tbody tr th:only-of-type {\n",
              "        vertical-align: middle;\n",
              "    }\n",
              "\n",
              "    .dataframe tbody tr th {\n",
              "        vertical-align: top;\n",
              "    }\n",
              "\n",
              "    .dataframe thead th {\n",
              "        text-align: right;\n",
              "    }\n",
              "</style>\n",
              "<table border=\"1\" class=\"dataframe\">\n",
              "  <thead>\n",
              "    <tr style=\"text-align: right;\">\n",
              "      <th></th>\n",
              "      <th>Name</th>\n",
              "      <th>Age</th>\n",
              "      <th>City</th>\n",
              "    </tr>\n",
              "  </thead>\n",
              "  <tbody>\n",
              "    <tr>\n",
              "      <th>1</th>\n",
              "      <td>False</td>\n",
              "      <td>False</td>\n",
              "      <td>False</td>\n",
              "    </tr>\n",
              "    <tr>\n",
              "      <th>2</th>\n",
              "      <td>False</td>\n",
              "      <td>False</td>\n",
              "      <td>False</td>\n",
              "    </tr>\n",
              "    <tr>\n",
              "      <th>3</th>\n",
              "      <td>False</td>\n",
              "      <td>False</td>\n",
              "      <td>False</td>\n",
              "    </tr>\n",
              "    <tr>\n",
              "      <th>4</th>\n",
              "      <td>False</td>\n",
              "      <td>False</td>\n",
              "      <td>False</td>\n",
              "    </tr>\n",
              "    <tr>\n",
              "      <th>5</th>\n",
              "      <td>False</td>\n",
              "      <td>False</td>\n",
              "      <td>False</td>\n",
              "    </tr>\n",
              "  </tbody>\n",
              "</table>\n",
              "</div>"
            ],
            "text/plain": [
              "    Name    Age   City\n",
              "1  False  False  False\n",
              "2  False  False  False\n",
              "3  False  False  False\n",
              "4  False  False  False\n",
              "5  False  False  False"
            ]
          },
          "execution_count": 30,
          "metadata": {},
          "output_type": "execute_result"
        }
      ],
      "source": [
        "df.isna()"
      ]
    },
    {
      "cell_type": "code",
      "execution_count": null,
      "id": "9b01d8ef-320b-4c94-9fc1-828d873f65d4",
      "metadata": {
        "id": "9b01d8ef-320b-4c94-9fc1-828d873f65d4",
        "outputId": "bdc62023-bd29-48b5-894b-224ceef15dd0"
      },
      "outputs": [
        {
          "name": "stdin",
          "output_type": "stream",
          "text": [
            "Enter the file path (PDF, JSON, XML, DOCX):  /Users/manpreetsingh/Library/CloudStorage/GoogleDrive-manpreet.gurudatta@mistmandsaur.org/My Drive/My Mac/pending items/single-turn-data.pdf\n"
          ]
        },
        {
          "name": "stdout",
          "output_type": "stream",
          "text": [
            "✅ 120 mobile numbers extracted and saved to 'extracted_numbers.xlsx'\n"
          ]
        }
      ],
      "source": [
        "import re\n",
        "import os\n",
        "import json\n",
        "import xml.etree.ElementTree as ET\n",
        "import pandas as pd\n",
        "import PyPDF2\n",
        "import docx\n",
        "\n",
        "def extract_mobile_numbers(text):\n",
        "    pattern = r'\\b[6789]\\d{9}\\b'\n",
        "    return re.findall(pattern, text)\n",
        "\n",
        "def extract_from_pdf(file_path):\n",
        "    text = \"\"\n",
        "    with open(file_path, \"rb\") as f:\n",
        "        reader = PyPDF2.PdfReader(f)\n",
        "        for page in reader.pages:\n",
        "            text += page.extract_text() + \"\\n\"\n",
        "    return extract_mobile_numbers(text)\n",
        "\n",
        "def extract_from_json(file_path):\n",
        "    with open(file_path, \"r\", encoding=\"utf-8\") as f:\n",
        "        data = json.load(f)\n",
        "    text = json.dumps(data)  # JSON ko text me convert kiya\n",
        "    return extract_mobile_numbers(text)\n",
        "\n",
        "def extract_from_xml(file_path):\n",
        "    tree = ET.parse(file_path)\n",
        "    root = tree.getroot()\n",
        "    text = ET.tostring(root, encoding=\"utf-8\").decode()\n",
        "    return extract_mobile_numbers(text)\n",
        "\n",
        "def extract_from_word(file_path):\n",
        "    doc = docx.Document(file_path)\n",
        "    text = \"\\n\".join([para.text for para in doc.paragraphs])\n",
        "    return extract_mobile_numbers(text)\n",
        "\n",
        "# Taking input from user\n",
        "file_path = input(\"Enter the file path (PDF, JSON, XML, DOCX): \")\n",
        "\n",
        "# If file already exists\n",
        "if not os.path.exists(file_path):\n",
        "    print(\"Error: File not found!\")\n",
        "    exit()\n",
        "\n",
        "# File type:\n",
        "file_ext = file_path.split(\".\")[-1].lower()\n",
        "\n",
        "if file_ext == \"pdf\":\n",
        "    numbers = extract_from_pdf(file_path)\n",
        "elif file_ext == \"json\":\n",
        "    numbers = extract_from_json(file_path)\n",
        "elif file_ext == \"xml\":\n",
        "    numbers = extract_from_xml(file_path)\n",
        "elif file_ext == \"docx\":\n",
        "    numbers = extract_from_word(file_path)\n",
        "else:\n",
        "    print(\"Error: Unsupported file format! Use PDF, JSON, XML, or DOCX.\")\n",
        "    exit()\n",
        "\n",
        "# Exporting into excel\n",
        "if numbers:\n",
        "    df = pd.DataFrame({\"Mobile Numbers\": numbers})\n",
        "    df.to_excel(\"extracted_numbers.xlsx\", index=False)\n",
        "    print(f\"✅ {len(numbers)} mobile numbers extracted and saved to 'extracted_numbers.xlsx'\")\n",
        "else:\n",
        "    print(\"❌ No mobile numbers found in the file.\")"
      ]
    },
    {
      "cell_type": "code",
      "execution_count": null,
      "id": "053bdc9d-8e7c-4885-bb36-3e157b17e2f0",
      "metadata": {
        "id": "053bdc9d-8e7c-4885-bb36-3e157b17e2f0",
        "outputId": "83625bfa-ad3d-427e-f40f-5a27f7f19674"
      },
      "outputs": [
        {
          "name": "stdin",
          "output_type": "stream",
          "text": [
            "Enter the file path (CSV or Excel):  /Users/manpreetsingh/Documents/Practise Programms/extracted_numbers.xlsx\n"
          ]
        },
        {
          "name": "stdout",
          "output_type": "stream",
          "text": [
            "\n",
            "🔹 Initial Data Summary:\n",
            "<class 'pandas.core.frame.DataFrame'>\n",
            "RangeIndex: 120 entries, 0 to 119\n",
            "Data columns (total 1 columns):\n",
            " #   Column          Non-Null Count  Dtype\n",
            "---  ------          --------------  -----\n",
            " 0   Mobile Numbers  120 non-null    int64\n",
            "dtypes: int64(1)\n",
            "memory usage: 1.1 KB\n",
            "None\n",
            "\n",
            "✅ Duplicate rows removed!\n",
            "✅ Null values removed!\n",
            "✅ Extra whitespaces removed!\n",
            "✅ Data types corrected where possible!\n",
            "\n",
            "✅ Data cleaning completed! Cleaned data saved as 'cleaned_data.xlsx'.\n"
          ]
        }
      ],
      "source": [
        "def clean_data(df):\n",
        "    \"\"\"Basic data cleaning operations\"\"\"\n",
        "\n",
        "    print(\"\\n🔹 Initial Data Summary:\")\n",
        "    print(df.info())\n",
        "\n",
        "    # 🔹 Step 1: Remove duplicate rows\n",
        "    df = df.drop_duplicates()\n",
        "    print(\"\\n✅ Duplicate rows removed!\")\n",
        "\n",
        "    # 🔹 Step 2: Remove null values\n",
        "    df = df.dropna()\n",
        "    print(\"✅ Null values removed!\")\n",
        "\n",
        "    # 🔹 Step 3: Trim extra whitespace from string columns\n",
        "    str_cols = df.select_dtypes(include=[\"object\"]).columns\n",
        "    df[str_cols] = df[str_cols].apply(lambda x: x.str.strip())\n",
        "    print(\"✅ Extra whitespaces removed!\")\n",
        "\n",
        "    # 🔹 Step 4: Convert numeric columns to proper type\n",
        "    for col in df.columns:\n",
        "        try:\n",
        "            df[col] = pd.to_numeric(df[col])\n",
        "        except:\n",
        "            pass\n",
        "    print(\"✅ Data types corrected where possible!\")\n",
        "\n",
        "    # 🔹 Step 5: Detect outliers using IQR method\n",
        "    numeric_cols = df.select_dtypes(include=[\"number\"]).columns\n",
        "    for col in numeric_cols:\n",
        "        Q1 = df[col].quantile(0.25)\n",
        "        Q3 = df[col].quantile(0.75)\n",
        "        IQR = Q3 - Q1\n",
        "        lower_bound = Q1 - 1.5 * IQR\n",
        "        upper_bound = Q3 + 1.5 * IQR\n",
        "        outliers = df[(df[col] < lower_bound) | (df[col] > upper_bound)]\n",
        "        if not outliers.empty:\n",
        "            print(f\"⚠️ Outliers detected in '{col}', consider handling manually.\")\n",
        "\n",
        "    return df\n",
        "\n",
        "# 📌 Taking input from user\n",
        "file_path = input(\"Enter the file path (CSV or Excel): \")\n",
        "\n",
        "# ✅ If file already exists\n",
        "if not os.path.exists(file_path):\n",
        "    print(\"❌ Error: File not found!\")\n",
        "    exit()\n",
        "\n",
        "# ✅ Detecting & loading file type\n",
        "file_ext = file_path.split(\".\")[-1].lower()\n",
        "\n",
        "if file_ext == \"csv\":\n",
        "    df = pd.read_csv(file_path)\n",
        "elif file_ext in [\"xls\", \"xlsx\"]:\n",
        "    df = pd.read_excel(file_path)\n",
        "else:\n",
        "    print(\"❌ Error: Unsupported file format! Use CSV or Excel.\")\n",
        "    exit()\n",
        "\n",
        "# ✅ Data cleaning process\n",
        "cleaned_df = clean_data(df)\n",
        "\n",
        "# ✅ Saving Cleaned data\n",
        "output_file = \"cleaned_data.xlsx\"\n",
        "cleaned_df.to_excel(output_file, index=False)\n",
        "print(f\"\\n✅ Data cleaning completed! Cleaned data saved as '{output_file}'.\")"
      ]
    },
    {
      "cell_type": "code",
      "execution_count": null,
      "id": "5a42b70d-b83e-4437-b1d4-822c204c179d",
      "metadata": {
        "id": "5a42b70d-b83e-4437-b1d4-822c204c179d"
      },
      "outputs": [],
      "source": []
    }
  ],
  "metadata": {
    "kernelspec": {
      "display_name": "Python 3 (ipykernel)",
      "language": "python",
      "name": "python3"
    },
    "language_info": {
      "codemirror_mode": {
        "name": "ipython",
        "version": 3
      },
      "file_extension": ".py",
      "mimetype": "text/x-python",
      "name": "python",
      "nbconvert_exporter": "python",
      "pygments_lexer": "ipython3",
      "version": "3.9.6"
    },
    "colab": {
      "provenance": [],
      "include_colab_link": true
    }
  },
  "nbformat": 4,
  "nbformat_minor": 5
}